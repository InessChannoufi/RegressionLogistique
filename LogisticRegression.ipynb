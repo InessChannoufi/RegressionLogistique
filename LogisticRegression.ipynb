{
 "cells": [
  {
   "cell_type": "markdown",
   "metadata": {},
   "source": [
    "##  Régression Logistique\n"
   ]
  },
  {
   "cell_type": "markdown",
   "metadata": {},
   "source": [
    "### Contexte: \n",
    "Nous souhaitons mettre en place un modèle approprié permettant d'identifier le public cible pour une publicité spécifique sur l'un des réseaux sociaux, maximisant ainsi le taux de clics sur cette publicité.\n",
    "### Description du Dataset\n",
    "Notre Dataset 'Internautes_info.csv' contient des informations sur tous les utilisateurs du réseau social, y compris leur Identifiant, leur sexe, leur âge et leur salaire estimé. La dernière colonne de l'ensemble de données est un vecteur de booléens décrivant si chaque utilisateur a fini par cliquer sur la publicité (0 = Faux, 1 = Vrai)."
   ]
  },
  {
   "cell_type": "code",
   "execution_count": 1,
   "metadata": {
    "collapsed": true
   },
   "outputs": [],
   "source": [
    "# Importer les libraries\n",
    "\n",
    "import pandas as pd\n",
    "import matplotlib.pyplot as plt\n",
    "import numpy as np"
   ]
  },
  {
   "cell_type": "code",
   "execution_count": 2,
   "metadata": {
    "collapsed": true
   },
   "outputs": [],
   "source": [
    "# Importer le dataset\n",
    "\n",
    "dataset = pd.read_csv('Internautes_info.csv')"
   ]
  },
  {
   "cell_type": "code",
   "execution_count": 3,
   "metadata": {},
   "outputs": [
    {
     "data": {
      "text/plain": [
       "(400, 5)"
      ]
     },
     "execution_count": 3,
     "metadata": {},
     "output_type": "execute_result"
    }
   ],
   "source": [
    "#dimensions : nombre de lignes, nombre de colonnes\n",
    "dataset.shape"
   ]
  },
  {
   "cell_type": "code",
   "execution_count": 4,
   "metadata": {},
   "outputs": [
    {
     "data": {
      "text/html": [
       "<div>\n",
       "<style>\n",
       "    .dataframe thead tr:only-child th {\n",
       "        text-align: right;\n",
       "    }\n",
       "\n",
       "    .dataframe thead th {\n",
       "        text-align: left;\n",
       "    }\n",
       "\n",
       "    .dataframe tbody tr th {\n",
       "        vertical-align: top;\n",
       "    }\n",
       "</style>\n",
       "<table border=\"1\" class=\"dataframe\">\n",
       "  <thead>\n",
       "    <tr style=\"text-align: right;\">\n",
       "      <th></th>\n",
       "      <th>User ID</th>\n",
       "      <th>Gender</th>\n",
       "      <th>Age</th>\n",
       "      <th>EstimatedSalary</th>\n",
       "      <th>Purchased</th>\n",
       "    </tr>\n",
       "  </thead>\n",
       "  <tbody>\n",
       "    <tr>\n",
       "      <th>0</th>\n",
       "      <td>15624510</td>\n",
       "      <td>Male</td>\n",
       "      <td>19</td>\n",
       "      <td>19000</td>\n",
       "      <td>0</td>\n",
       "    </tr>\n",
       "    <tr>\n",
       "      <th>1</th>\n",
       "      <td>15810944</td>\n",
       "      <td>Male</td>\n",
       "      <td>35</td>\n",
       "      <td>20000</td>\n",
       "      <td>0</td>\n",
       "    </tr>\n",
       "    <tr>\n",
       "      <th>2</th>\n",
       "      <td>15668575</td>\n",
       "      <td>Female</td>\n",
       "      <td>26</td>\n",
       "      <td>43000</td>\n",
       "      <td>0</td>\n",
       "    </tr>\n",
       "    <tr>\n",
       "      <th>3</th>\n",
       "      <td>15603246</td>\n",
       "      <td>Female</td>\n",
       "      <td>27</td>\n",
       "      <td>57000</td>\n",
       "      <td>0</td>\n",
       "    </tr>\n",
       "    <tr>\n",
       "      <th>4</th>\n",
       "      <td>15804002</td>\n",
       "      <td>Male</td>\n",
       "      <td>19</td>\n",
       "      <td>76000</td>\n",
       "      <td>0</td>\n",
       "    </tr>\n",
       "  </tbody>\n",
       "</table>\n",
       "</div>"
      ],
      "text/plain": [
       "    User ID  Gender  Age  EstimatedSalary  Purchased\n",
       "0  15624510    Male   19            19000          0\n",
       "1  15810944    Male   35            20000          0\n",
       "2  15668575  Female   26            43000          0\n",
       "3  15603246  Female   27            57000          0\n",
       "4  15804002    Male   19            76000          0"
      ]
     },
     "execution_count": 4,
     "metadata": {},
     "output_type": "execute_result"
    }
   ],
   "source": [
    "#Visualiser les 5 premiers\n",
    "dataset.head()"
   ]
  },
  {
   "cell_type": "code",
   "execution_count": 5,
   "metadata": {
    "collapsed": true
   },
   "outputs": [],
   "source": [
    "# diviser les données en attributs et étiquettes (labes)\n",
    "\n",
    "X = dataset.iloc[:, [2,3]].values\n",
    "\n",
    "y= dataset.iloc[:,4].values"
   ]
  },
  {
   "cell_type": "code",
   "execution_count": 6,
   "metadata": {
    "collapsed": true
   },
   "outputs": [],
   "source": [
    "# Splitting du dataset Training set and Test set (80%,20%)\n",
    "\n",
    "\n",
    "from sklearn.model_selection import train_test_split\n",
    "X_train, X_test, y__train, y_test=train_test_split(X,y, test_size=0.20)\n"
   ]
  },
  {
   "cell_type": "code",
   "execution_count": 7,
   "metadata": {},
   "outputs": [
    {
     "name": "stderr",
     "output_type": "stream",
     "text": [
      "C:\\Users\\Ines\\Anaconda3\\lib\\site-packages\\sklearn\\utils\\validation.py:475: DataConversionWarning: Data with input dtype int64 was converted to float64 by MinMaxScaler.\n",
      "  warnings.warn(msg, DataConversionWarning)\n",
      "C:\\Users\\Ines\\Anaconda3\\lib\\site-packages\\sklearn\\utils\\validation.py:475: DataConversionWarning: Data with input dtype int64 was converted to float64 by StandardScaler.\n",
      "  warnings.warn(msg, DataConversionWarning)\n"
     ]
    }
   ],
   "source": [
    "# Feature Scaling (Mise en echelle)\n",
    "from sklearn.preprocessing import MinMaxScaler, StandardScaler\n",
    "\n",
    "minmaxscaler=MinMaxScaler()\n",
    "X_train_n=minmaxscaler.fit_transform(X_train)\n",
    "X_test_n=minmaxscaler.fit_transform(X_test)\n",
    "\n",
    "standarscaler= StandardScaler()\n",
    "X_train=standarscaler.fit_transform(X_train)\n",
    "X_test=standarscaler.fit_transform(X_test)\n"
   ]
  },
  {
   "cell_type": "code",
   "execution_count": 8,
   "metadata": {
    "collapsed": true
   },
   "outputs": [],
   "source": [
    "# Fitting Logistic Regression to the Training set\n",
    "\n",
    "from sklearn.linear_model import LogisticRegression\n",
    "from sklearn.neighbors import KNeighborsClassifier\n",
    "from sklearn.svm import SVC\n",
    "from sklearn.tree import DecisionTreeClassifier\n",
    "from sklearn.metrics import confusion_matrix, accuracy_score,\\\n",
    "precision_score "
   ]
  },
  {
   "cell_type": "code",
   "execution_count": 9,
   "metadata": {},
   "outputs": [
    {
     "name": "stdout",
     "output_type": "stream",
     "text": [
      "[[51  1]\n",
      " [10 18]]\n",
      "Accuracy LR =  0.8625\n",
      "Precision LR =  0.9473684210526315\n",
      "[[46  6]\n",
      " [ 2 26]]\n",
      "Accuracy KNN =  0.9\n",
      "Precision KNN =  0.8125\n",
      "[[50  2]\n",
      " [ 7 21]]\n",
      "Accuracy SVM =  0.8875\n",
      "Precision SVM =  0.9130434782608695\n",
      "[[39 13]\n",
      " [ 3 25]]\n",
      "Accuracy Decision Tree =  0.8\n",
      "Precision De ision Tree =  0.6578947368421053\n"
     ]
    }
   ],
   "source": [
    "#on souhaite comparer les valeurs des métriques Accuracy et précision pour \n",
    "#les algorithmes LogisticRegression, KNN, SVM et DecisionTree\n",
    "def classifier(X_train, X_test, y__train, y_test):\n",
    "    \n",
    "    clf1= LogisticRegression()\n",
    "    clf1.fit(X_train_n, y__train)\n",
    "    # Predicting the Test set results\n",
    "    y_pred1= clf1.predict(X_test_n)\n",
    "    # Making the Confusion Matrix\n",
    "    cm1=confusion_matrix(y_test, y_pred1)\n",
    "    print(cm1)\n",
    "    print('Accuracy LR = ', format(accuracy_score(y_test, y_pred1)))\n",
    "    print('Precision LR = ', format(precision_score(y_test, y_pred1)))\n",
    "    \n",
    "    \n",
    "    clf2= KNeighborsClassifier(n_neighbors=5)\n",
    "    clf2.fit(X_train_n, y__train)\n",
    "    # Predicting the Test set results\n",
    "    y_pred2= clf2.predict(X_test_n)\n",
    "    # Making the Confusion Matrix\n",
    "    cm2=confusion_matrix(y_test, y_pred2)\n",
    "    print(cm2)\n",
    "    print('Accuracy KNN = ', format(accuracy_score(y_test, y_pred2)))\n",
    "    print('Precision KNN = ', format(precision_score(y_test, y_pred2)))\n",
    "    \n",
    "    \n",
    "    clf3 = SVC(kernel='rbf')\n",
    "    clf3.fit(X_train_n, y__train)\n",
    "    # Predicting the Test set results\n",
    "    y_pred3= clf3.predict(X_test_n)\n",
    "    # Making the Confusion Matrix\n",
    "    cm3=confusion_matrix(y_test, y_pred3)\n",
    "    print(cm3)\n",
    "    print('Accuracy SVM = ', format(accuracy_score(y_test, y_pred3)))\n",
    "    print('Precision SVM = ', format(precision_score(y_test, y_pred3)))\n",
    "    \n",
    "    clf4 = DecisionTreeClassifier(criterion='entropy')\n",
    "    clf4.fit(X_train_n, y__train)\n",
    "    # Predicting the Test set results\n",
    "    y_pred4= clf4.predict(X_test_n)\n",
    "    # Making the Confusion Matrix\n",
    "    cm4=confusion_matrix(y_test, y_pred4)\n",
    "    print(cm4)\n",
    "    print('Accuracy Decision Tree = ', format(accuracy_score(y_test, y_pred4)))\n",
    "    print('Precision De ision Tree = ', format(precision_score(y_test, y_pred4)))\n",
    "    \n",
    "    return clf4\n",
    "#appel de la fonction créee\n",
    "clf4 = classifier(X_train_n, X_test_n, y__train, y_test)\n"
   ]
  },
  {
   "cell_type": "code",
   "execution_count": null,
   "metadata": {
    "collapsed": true
   },
   "outputs": [],
   "source": []
  }
 ],
 "metadata": {
  "kernelspec": {
   "display_name": "Python 3",
   "language": "python",
   "name": "python3"
  },
  "language_info": {
   "codemirror_mode": {
    "name": "ipython",
    "version": 3
   },
   "file_extension": ".py",
   "mimetype": "text/x-python",
   "name": "python",
   "nbconvert_exporter": "python",
   "pygments_lexer": "ipython3",
   "version": "3.6.3"
  }
 },
 "nbformat": 4,
 "nbformat_minor": 2
}
